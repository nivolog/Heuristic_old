{
 "cells": [
  {
   "cell_type": "code",
   "execution_count": 10,
   "metadata": {},
   "outputs": [],
   "source": [
    "from PIL import Image\n",
    "import numpy as np\n",
    "import pandas as pd\n",
    "\n",
    "num = '7'\n",
    "f = open('/home/what_is_love/Lab/maps/' + num + '/path.txt', 'r')\n",
    "path = np.loadtxt(f).astype(int)\n",
    "\n",
    "im = Image.open('/home/what_is_love/Lab/maps/' + num + '/map.png')\n",
    "karta = np.array(im)\n",
    "\n",
    "\n",
    "    \n",
    "for i in range(path.shape[0]):\n",
    "    y = path[i][0]\n",
    "    x = path[i][1]\n",
    "    karta[x-1][y-1][0] = 255\n",
    "    karta[x-1][y-1][1] = 0\n",
    "    karta[x-1][y-1][2] = 0\n",
    "    \n",
    "im_p = Image.fromarray(karta)\n",
    "im_p.save('/home/what_is_love/Lab/maps/' + num + '/map_path.png', format = 'png')"
   ]
  },
  {
   "cell_type": "code",
   "execution_count": null,
   "metadata": {},
   "outputs": [],
   "source": []
  }
 ],
 "metadata": {
  "kernelspec": {
   "display_name": "Python 3",
   "language": "python",
   "name": "python3"
  },
  "language_info": {
   "codemirror_mode": {
    "name": "ipython",
    "version": 3
   },
   "file_extension": ".py",
   "mimetype": "text/x-python",
   "name": "python",
   "nbconvert_exporter": "python",
   "pygments_lexer": "ipython3",
   "version": "3.7.4"
  }
 },
 "nbformat": 4,
 "nbformat_minor": 2
}
