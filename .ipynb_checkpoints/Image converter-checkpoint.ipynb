{
 "cells": [
  {
   "cell_type": "code",
   "execution_count": 25,
   "metadata": {},
   "outputs": [],
   "source": [
    "from PIL import Image\n",
    "import numpy as np\n",
    "\n",
    "\n",
    "\n",
    "im = Image.open(\"map.png\")\n",
    "p = np.array(im)\n",
    "m = p[::,::,1]\n",
    "m = m/255\n",
    "m = abs(m-1)\n",
    "m = m.astype(int)\n",
    "\n",
    "f = open('map.txt', 'w')\n",
    "f.write(str(m.shape[0]) + ' ' + str(m.shape[1]) + '\\n')\n",
    "f.write('2 2 \\n44 2 \\n')\n",
    "for i in range(m.shape[0]):\n",
    "    for j in range(m.shape[1]):\n",
    "        f.write(str(j+1) + ' ' + str(i+1) + ' ' + str(m[i][j]) + '\\n')\n",
    "\n",
    "\n",
    "        \n",
    "f.close()\n"
   ]
  },
  {
   "cell_type": "code",
   "execution_count": null,
   "metadata": {},
   "outputs": [],
   "source": []
  }
 ],
 "metadata": {
  "kernelspec": {
   "display_name": "Python 3",
   "language": "python",
   "name": "python3"
  },
  "language_info": {
   "codemirror_mode": {
    "name": "ipython",
    "version": 3
   },
   "file_extension": ".py",
   "mimetype": "text/x-python",
   "name": "python",
   "nbconvert_exporter": "python",
   "pygments_lexer": "ipython3",
   "version": "3.7.4"
  }
 },
 "nbformat": 4,
 "nbformat_minor": 2
}
